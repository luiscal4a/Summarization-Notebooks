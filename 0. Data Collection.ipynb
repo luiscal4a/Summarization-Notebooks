{
 "cells": [
  {
   "cell_type": "markdown",
   "metadata": {
    "id": "5Hhu8b8qW0KJ"
   },
   "source": [
    "**Resources:**\n",
    "- [Kaggle Arxiv dataset](https://www.kaggle.com/datasets/Cornell-University/arxiv)\n",
    "- [Tooling repo](https://github.com/mattbierbaum/arxiv-public-datasets)"
   ]
  },
  {
   "cell_type": "markdown",
   "metadata": {
    "id": "Ss-nODCybUhd"
   },
   "source": [
    "# Downloading Arxiv PDFs"
   ]
  },
  {
   "cell_type": "markdown",
   "metadata": {
    "id": "epHMUSPnUqxZ"
   },
   "source": [
    "## Using Arxiv metadata"
   ]
  },
  {
   "cell_type": "code",
   "execution_count": null,
   "metadata": {
    "id": "xdqKuA57V7Oy"
   },
   "outputs": [],
   "source": [
    "from google.colab import drive\n",
    "import zipfile\n",
    "import pandas as pd\n",
    "import json"
   ]
  },
  {
   "cell_type": "code",
   "execution_count": null,
   "metadata": {
    "colab": {
     "base_uri": "https://localhost:8080/"
    },
    "executionInfo": {
     "elapsed": 14012,
     "status": "ok",
     "timestamp": 1647561357324,
     "user": {
      "displayName": "Uxío Piñeiro",
      "photoUrl": "https://lh3.googleusercontent.com/a-/AOh14GiRnzmswfIeMtQu-an4TKqYu3oG9ATEx3_pIuve5Kc=s64",
      "userId": "04735502470091500196"
     },
     "user_tz": 0
    },
    "id": "6foxNKqr1xAc",
    "outputId": "3ef506a3-9fcc-4611-a883-4372b05f0a43"
   },
   "outputs": [
    {
     "name": "stdout",
     "output_type": "stream",
     "text": [
      "Mounted at /content/drive/\n"
     ]
    }
   ],
   "source": [
    "drive.mount('/content/drive/')\n",
    "!cp \"/content/drive/MyDrive/[Personal-route]\" \"arxiv-metadata-oai-snapshot.json.zip\"\n",
    "drive.flush_and_unmount()"
   ]
  },
  {
   "cell_type": "code",
   "execution_count": null,
   "metadata": {
    "id": "2fTKAMHi2EIf"
   },
   "outputs": [],
   "source": [
    "json_file = zipfile.ZipFile(\"arxiv-metadata-oai-snapshot.json.zip\").open(\"arxiv-metadata-oai-snapshot.json\")"
   ]
  },
  {
   "cell_type": "code",
   "execution_count": null,
   "metadata": {
    "id": "MK7Auf-W_LuZ"
   },
   "outputs": [],
   "source": [
    "data = json_file.read()"
   ]
  },
  {
   "cell_type": "code",
   "execution_count": null,
   "metadata": {
    "id": "0NFIpV8WT0vC"
   },
   "outputs": [],
   "source": [
    "data.decode()[:20000]"
   ]
  },
  {
   "cell_type": "markdown",
   "metadata": {
    "id": "naJFVKR9UnWl"
   },
   "source": [
    "Keeps failing"
   ]
  },
  {
   "cell_type": "markdown",
   "metadata": {
    "id": "vWBPr6DmU0RF"
   },
   "source": [
    "## Using Google Cloud Storage"
   ]
  },
  {
   "cell_type": "code",
   "execution_count": null,
   "metadata": {
    "id": "ZFpWkfR-Vp_3"
   },
   "outputs": [],
   "source": [
    "from random import sample\n",
    "from google.cloud import storage\n",
    "from google.colab import auth"
   ]
  },
  {
   "cell_type": "code",
   "execution_count": null,
   "metadata": {
    "colab": {
     "base_uri": "https://localhost:8080/"
    },
    "executionInfo": {
     "elapsed": 2775,
     "status": "ok",
     "timestamp": 1647555506084,
     "user": {
      "displayName": "Uxío Piñeiro",
      "photoUrl": "https://lh3.googleusercontent.com/a-/AOh14GiRnzmswfIeMtQu-an4TKqYu3oG9ATEx3_pIuve5Kc=s64",
      "userId": "04735502470091500196"
     },
     "user_tz": 0
    },
    "id": "4HbmQlf03Mfl",
    "outputId": "26727515-f314-4a32-ebe3-fd20626168f4"
   },
   "outputs": [
    {
     "name": "stdout",
     "output_type": "stream",
     "text": [
      "gs://arxiv-dataset/arxiv/acc-phys/\n",
      "gs://arxiv-dataset/arxiv/adap-org/\n",
      "gs://arxiv-dataset/arxiv/alg-geom/\n",
      "gs://arxiv-dataset/arxiv/ao-sci/\n",
      "gs://arxiv-dataset/arxiv/arxiv/\n",
      "gs://arxiv-dataset/arxiv/astro-ph/\n",
      "gs://arxiv-dataset/arxiv/atom-ph/\n",
      "gs://arxiv-dataset/arxiv/bayes-an/\n",
      "gs://arxiv-dataset/arxiv/chao-dyn/\n",
      "gs://arxiv-dataset/arxiv/chem-ph/\n",
      "gs://arxiv-dataset/arxiv/cmp-lg/\n",
      "gs://arxiv-dataset/arxiv/comp-gas/\n",
      "gs://arxiv-dataset/arxiv/cond-mat/\n",
      "gs://arxiv-dataset/arxiv/cs/\n",
      "gs://arxiv-dataset/arxiv/dg-ga/\n",
      "gs://arxiv-dataset/arxiv/funct-an/\n",
      "gs://arxiv-dataset/arxiv/gr-qc/\n",
      "gs://arxiv-dataset/arxiv/hep-ex/\n",
      "gs://arxiv-dataset/arxiv/hep-lat/\n",
      "gs://arxiv-dataset/arxiv/hep-ph/\n",
      "gs://arxiv-dataset/arxiv/hep-th/\n",
      "gs://arxiv-dataset/arxiv/math-ph/\n",
      "gs://arxiv-dataset/arxiv/math/\n",
      "gs://arxiv-dataset/arxiv/mtrl-th/\n",
      "gs://arxiv-dataset/arxiv/nlin/\n",
      "gs://arxiv-dataset/arxiv/nucl-ex/\n",
      "gs://arxiv-dataset/arxiv/nucl-th/\n",
      "gs://arxiv-dataset/arxiv/patt-sol/\n",
      "gs://arxiv-dataset/arxiv/physics/\n",
      "gs://arxiv-dataset/arxiv/plasm-ph/\n",
      "gs://arxiv-dataset/arxiv/q-alg/\n",
      "gs://arxiv-dataset/arxiv/q-bio/\n",
      "gs://arxiv-dataset/arxiv/quant-ph/\n",
      "gs://arxiv-dataset/arxiv/solv-int/\n",
      "gs://arxiv-dataset/arxiv/supr-con/\n"
     ]
    }
   ],
   "source": [
    "# List papers categories\n",
    "!gsutil ls gs://arxiv-dataset/arxiv/"
   ]
  },
  {
   "cell_type": "code",
   "execution_count": null,
   "metadata": {
    "id": "oLK27D5E5ebe"
   },
   "outputs": [],
   "source": [
    "!gsutil ls gs://arxiv-dataset/arxiv/cs/pdf/**/*.pdf > files.txt"
   ]
  },
  {
   "cell_type": "code",
   "execution_count": null,
   "metadata": {
    "colab": {
     "base_uri": "https://localhost:8080/"
    },
    "executionInfo": {
     "elapsed": 212,
     "status": "ok",
     "timestamp": 1647561971372,
     "user": {
      "displayName": "Uxío Piñeiro",
      "photoUrl": "https://lh3.googleusercontent.com/a-/AOh14GiRnzmswfIeMtQu-an4TKqYu3oG9ATEx3_pIuve5Kc=s64",
      "userId": "04735502470091500196"
     },
     "user_tz": 0
    },
    "id": "x6dEKMKn9xId",
    "outputId": "16b905b5-eeaa-4338-acce-9fd8a22173a8"
   },
   "outputs": [
    {
     "name": "stdout",
     "output_type": "stream",
     "text": [
      "Total files: 9882\n"
     ]
    }
   ],
   "source": [
    "with open(\"files.txt\", \"r\") as fp:\n",
    "  files = fp.read().splitlines()\n",
    "  print(f\"Total files: {len(files)}\")"
   ]
  },
  {
   "cell_type": "markdown",
   "metadata": {
    "id": "nBnKMjv8WOpD"
   },
   "source": [
    "Let's take a batch of 1000 files from it"
   ]
  },
  {
   "cell_type": "code",
   "execution_count": null,
   "metadata": {
    "id": "V-Wm5zShV8EQ"
   },
   "outputs": [],
   "source": [
    "sample_files = sample(files, 500)"
   ]
  },
  {
   "cell_type": "code",
   "execution_count": null,
   "metadata": {
    "id": "J5mf9QndWd3F"
   },
   "outputs": [],
   "source": [
    "with open(\"sample_files.txt\", \"w\") as fp:\n",
    "  for file_ in sample_files:\n",
    "    fp.write(f\"{file_}\\n\")"
   ]
  },
  {
   "cell_type": "code",
   "execution_count": null,
   "metadata": {
    "id": "6-kmO-rzY_x3"
   },
   "outputs": [],
   "source": [
    "from google.colab import drive"
   ]
  },
  {
   "cell_type": "code",
   "execution_count": null,
   "metadata": {
    "colab": {
     "base_uri": "https://localhost:8080/"
    },
    "executionInfo": {
     "elapsed": 3528,
     "status": "ok",
     "timestamp": 1647562729916,
     "user": {
      "displayName": "Uxío Piñeiro",
      "photoUrl": "https://lh3.googleusercontent.com/a-/AOh14GiRnzmswfIeMtQu-an4TKqYu3oG9ATEx3_pIuve5Kc=s64",
      "userId": "04735502470091500196"
     },
     "user_tz": 0
    },
    "id": "PZZQExOxYt0r",
    "outputId": "0f467260-b36d-44c1-b960-6407d00c3fc9"
   },
   "outputs": [
    {
     "name": "stdout",
     "output_type": "stream",
     "text": [
      "Mounted at /content/drive/\n"
     ]
    }
   ],
   "source": [
    "drive.mount('/content/drive/')"
   ]
  },
  {
   "cell_type": "code",
   "execution_count": null,
   "metadata": {
    "colab": {
     "base_uri": "https://localhost:8080/"
    },
    "executionInfo": {
     "elapsed": 22356,
     "status": "ok",
     "timestamp": 1647563099714,
     "user": {
      "displayName": "Uxío Piñeiro",
      "photoUrl": "https://lh3.googleusercontent.com/a-/AOh14GiRnzmswfIeMtQu-an4TKqYu3oG9ATEx3_pIuve5Kc=s64",
      "userId": "04735502470091500196"
     },
     "user_tz": 0
    },
    "id": "3b7fB2mQZIc8",
    "outputId": "c859a1b5-0571-40ab-fa39-28f1db9b5ed0"
   },
   "outputs": [
    {
     "name": "stdout",
     "output_type": "stream",
     "text": [
      "Copying gs://arxiv-dataset/arxiv/cs/pdf/0605/0605141v1.pdf...\n",
      "/ [0 files][    0.0 B/360.6 KiB]                                                \r",
      "Copying gs://arxiv-dataset/arxiv/cs/pdf/0507/0507012v1.pdf...\n",
      "/ [0 files][    0.0 B/726.8 KiB]                                                \r",
      "Copying gs://arxiv-dataset/arxiv/cs/pdf/0405/0405006v1.pdf...\n",
      "/ [0 files][    0.0 B/911.6 KiB]                                                \r",
      "Copying gs://arxiv-dataset/arxiv/cs/pdf/0310/0310004v1.pdf...\n",
      "/ [0 files][    0.0 B/  1.0 MiB]                                                \r",
      "Copying gs://arxiv-dataset/arxiv/cs/pdf/0506/0506045v1.pdf...\n",
      "Copying gs://arxiv-dataset/arxiv/cs/pdf/0607/0607135v1.pdf...\n",
      "Copying gs://arxiv-dataset/arxiv/cs/pdf/0607/0607104v1.pdf...\n",
      "Copying gs://arxiv-dataset/arxiv/cs/pdf/0703/0703018v9.pdf...\n",
      "Copying gs://arxiv-dataset/arxiv/cs/pdf/0607/0607120v1.pdf...\n",
      "Copying gs://arxiv-dataset/arxiv/cs/pdf/0508/0508037v2.pdf...\n",
      "Copying gs://arxiv-dataset/arxiv/cs/pdf/0306/0306054v1.pdf...\n",
      "Copying gs://arxiv-dataset/arxiv/cs/pdf/0410/0410048v1.pdf...\n",
      "Copying gs://arxiv-dataset/arxiv/cs/pdf/9912/9912017v1.pdf...\n",
      "Copying gs://arxiv-dataset/arxiv/cs/pdf/9904/9904017v1.pdf...\n",
      "Copying gs://arxiv-dataset/arxiv/cs/pdf/0010/0010036v1.pdf...\n",
      "Copying gs://arxiv-dataset/arxiv/cs/pdf/9907/9907006v1.pdf...\n",
      "Copying gs://arxiv-dataset/arxiv/cs/pdf/0203/0203029v19.pdf...\n",
      "Copying gs://arxiv-dataset/arxiv/cs/pdf/0007/0007022v1.pdf...\n",
      "Copying gs://arxiv-dataset/arxiv/cs/pdf/0212/0212048v1.pdf...\n",
      "Copying gs://arxiv-dataset/arxiv/cs/pdf/0002/0002003v1.pdf...\n",
      "Copying gs://arxiv-dataset/arxiv/cs/pdf/0511/0511028v2.pdf...\n",
      "Copying gs://arxiv-dataset/arxiv/cs/pdf/0503/0503039v5.pdf...\n",
      "Copying gs://arxiv-dataset/arxiv/cs/pdf/0512/0512033v1.pdf...\n",
      "Copying gs://arxiv-dataset/arxiv/cs/pdf/0701/0701032v2.pdf...\n",
      "Copying gs://arxiv-dataset/arxiv/cs/pdf/0611/0611097v1.pdf...\n",
      "Copying gs://arxiv-dataset/arxiv/cs/pdf/0609/0609004v9.pdf...\n",
      "Copying gs://arxiv-dataset/arxiv/cs/pdf/0212/0212047v1.pdf...\n",
      "Copying gs://arxiv-dataset/arxiv/cs/pdf/0610/0610102v2.pdf...\n",
      "Copying gs://arxiv-dataset/arxiv/cs/pdf/0306/0306136v1.pdf...\n",
      "Copying gs://arxiv-dataset/arxiv/cs/pdf/0208/0208018v2.pdf...\n",
      "Copying gs://arxiv-dataset/arxiv/cs/pdf/0506/0506087v1.pdf...\n",
      "Copying gs://arxiv-dataset/arxiv/cs/pdf/0603/0603131v1.pdf...\n",
      "Copying gs://arxiv-dataset/arxiv/cs/pdf/0507/0507015v1.pdf...\n",
      "Copying gs://arxiv-dataset/arxiv/cs/pdf/0606/0606103v17.pdf...\n",
      "Copying gs://arxiv-dataset/arxiv/cs/pdf/0506/0506081v2.pdf...\n",
      "Copying gs://arxiv-dataset/arxiv/cs/pdf/0211/0211004v1.pdf...\n",
      "Copying gs://arxiv-dataset/arxiv/cs/pdf/0505/0505069v1.pdf...\n",
      "Copying gs://arxiv-dataset/arxiv/cs/pdf/0601/0601083v1.pdf...\n",
      "Copying gs://arxiv-dataset/arxiv/cs/pdf/0307/0307071v1.pdf...\n",
      "Copying gs://arxiv-dataset/arxiv/cs/pdf/0310/0310058v1.pdf...\n",
      "Copying gs://arxiv-dataset/arxiv/cs/pdf/0405/0405025v1.pdf...\n",
      "Copying gs://arxiv-dataset/arxiv/cs/pdf/0409/0409015v1.pdf...\n",
      "Copying gs://arxiv-dataset/arxiv/cs/pdf/0702/0702024v1.pdf...\n",
      "Copying gs://arxiv-dataset/arxiv/cs/pdf/0211/0211029v1.pdf...\n",
      "Copying gs://arxiv-dataset/arxiv/cs/pdf/0410/0410047v1.pdf...\n",
      "Copying gs://arxiv-dataset/arxiv/cs/pdf/0201/0201021v1.pdf...\n",
      "Copying gs://arxiv-dataset/arxiv/cs/pdf/0012/0012005v1.pdf...\n",
      "Copying gs://arxiv-dataset/arxiv/cs/pdf/0610/0610012v2.pdf...\n",
      "Copying gs://arxiv-dataset/arxiv/cs/pdf/0407/0407046v1.pdf...\n",
      "Copying gs://arxiv-dataset/arxiv/cs/pdf/0207/0207012v1.pdf...\n",
      "Copying gs://arxiv-dataset/arxiv/cs/pdf/0702/0702031v1.pdf...\n",
      "Copying gs://arxiv-dataset/arxiv/cs/pdf/0306/0306016v1.pdf...\n",
      "Copying gs://arxiv-dataset/arxiv/cs/pdf/9901/9901010v1.pdf...\n",
      "Copying gs://arxiv-dataset/arxiv/cs/pdf/0207/0207088v3.pdf...\n",
      "Copying gs://arxiv-dataset/arxiv/cs/pdf/0605/0605140v1.pdf...\n",
      "Copying gs://arxiv-dataset/arxiv/cs/pdf/0205/0205051v1.pdf...\n",
      "Copying gs://arxiv-dataset/arxiv/cs/pdf/9910/9910014v1.pdf...\n",
      "Copying gs://arxiv-dataset/arxiv/cs/pdf/0606/0606081v2.pdf...\n",
      "Copying gs://arxiv-dataset/arxiv/cs/pdf/0703/0703039v1.pdf...\n",
      "Copying gs://arxiv-dataset/arxiv/cs/pdf/0407/0407003v1.pdf...\n",
      "Copying gs://arxiv-dataset/arxiv/cs/pdf/0611/0611040v3.pdf...\n",
      "Copying gs://arxiv-dataset/arxiv/cs/pdf/0506/0506068v1.pdf...\n",
      "Copying gs://arxiv-dataset/arxiv/cs/pdf/0109/0109018v1.pdf...\n",
      "Copying gs://arxiv-dataset/arxiv/cs/pdf/0001/0001013v1.pdf...\n",
      "Copying gs://arxiv-dataset/arxiv/cs/pdf/0108/0108013v2.pdf...\n",
      "Copying gs://arxiv-dataset/arxiv/cs/pdf/0701/0701178v3.pdf...\n",
      "Copying gs://arxiv-dataset/arxiv/cs/pdf/0609/0609005v4.pdf...\n",
      "Copying gs://arxiv-dataset/arxiv/cs/pdf/0607/0607104v2.pdf...\n",
      "Copying gs://arxiv-dataset/arxiv/cs/pdf/0407/0407034v1.pdf...\n",
      "Copying gs://arxiv-dataset/arxiv/cs/pdf/9912/9912020v2.pdf...\n",
      "Copying gs://arxiv-dataset/arxiv/cs/pdf/0512/0512037v1.pdf...\n",
      "Copying gs://arxiv-dataset/arxiv/cs/pdf/0505/0505068v1.pdf...\n",
      "Copying gs://arxiv-dataset/arxiv/cs/pdf/0605/0605100v1.pdf...\n",
      "Copying gs://arxiv-dataset/arxiv/cs/pdf/0003/0003057v1.pdf...\n",
      "Copying gs://arxiv-dataset/arxiv/cs/pdf/0109/0109054v1.pdf...\n",
      "Copying gs://arxiv-dataset/arxiv/cs/pdf/0212/0212029v1.pdf...\n",
      "Copying gs://arxiv-dataset/arxiv/cs/pdf/0612/0612044v1.pdf...\n",
      "Copying gs://arxiv-dataset/arxiv/cs/pdf/0203/0203014v1.pdf...\n",
      "Copying gs://arxiv-dataset/arxiv/cs/pdf/0111/0111015v1.pdf...\n",
      "Copying gs://arxiv-dataset/arxiv/cs/pdf/0503/0503007v1.pdf...\n",
      "Copying gs://arxiv-dataset/arxiv/cs/pdf/0311/0311044v1.pdf...\n",
      "Copying gs://arxiv-dataset/arxiv/cs/pdf/0506/0506048v1.pdf...\n",
      "Copying gs://arxiv-dataset/arxiv/cs/pdf/0606/0606103v2.pdf...\n",
      "Copying gs://arxiv-dataset/arxiv/cs/pdf/0408/0408027v1.pdf...\n",
      "Copying gs://arxiv-dataset/arxiv/cs/pdf/0610/0610063v2.pdf...\n",
      "Copying gs://arxiv-dataset/arxiv/cs/pdf/0701/0701109v1.pdf...\n",
      "Copying gs://arxiv-dataset/arxiv/cs/pdf/0501/0501008v1.pdf...\n",
      "Copying gs://arxiv-dataset/arxiv/cs/pdf/0607/0607144v1.pdf...\n",
      "Copying gs://arxiv-dataset/arxiv/cs/pdf/0111/0111052v1.pdf...\n",
      "Copying gs://arxiv-dataset/arxiv/cs/pdf/0611/0611146v3.pdf...\n",
      "Copying gs://arxiv-dataset/arxiv/cs/pdf/0607/0607056v1.pdf...\n",
      "Copying gs://arxiv-dataset/arxiv/cs/pdf/0011/0011026v1.pdf...\n",
      "Copying gs://arxiv-dataset/arxiv/cs/pdf/0701/0701005v1.pdf...\n",
      "Copying gs://arxiv-dataset/arxiv/cs/pdf/0504/0504045v1.pdf...\n",
      "Copying gs://arxiv-dataset/arxiv/cs/pdf/0408/0408049v1.pdf...\n",
      "Copying gs://arxiv-dataset/arxiv/cs/pdf/0211/0211033v1.pdf...\n",
      "Copying gs://arxiv-dataset/arxiv/cs/pdf/0509/0509076v1.pdf...\n",
      "Copying gs://arxiv-dataset/arxiv/cs/pdf/0304/0304027v1.pdf...\n",
      "Copying gs://arxiv-dataset/arxiv/cs/pdf/0612/0612005v2.pdf...\n",
      "Copying gs://arxiv-dataset/arxiv/cs/pdf/0110/0110031v1.pdf...\n",
      "Copying gs://arxiv-dataset/arxiv/cs/pdf/9906/9906022v1.pdf...\n",
      "Copying gs://arxiv-dataset/arxiv/cs/pdf/0607/0607042v1.pdf...\n",
      "Copying gs://arxiv-dataset/arxiv/cs/pdf/0106/0106019v1.pdf...\n",
      "Copying gs://arxiv-dataset/arxiv/cs/pdf/0211/0211001v2.pdf...\n",
      "Copying gs://arxiv-dataset/arxiv/cs/pdf/0601/0601067v1.pdf...\n",
      "Copying gs://arxiv-dataset/arxiv/cs/pdf/0607/0607062v1.pdf...\n",
      "Copying gs://arxiv-dataset/arxiv/cs/pdf/0612/0612073v2.pdf...\n",
      "Copying gs://arxiv-dataset/arxiv/cs/pdf/9902/9902010v1.pdf...\n",
      "Copying gs://arxiv-dataset/arxiv/cs/pdf/0701/0701007v1.pdf...\n",
      "Copying gs://arxiv-dataset/arxiv/cs/pdf/0111/0111063v1.pdf...\n",
      "Copying gs://arxiv-dataset/arxiv/cs/pdf/0602/0602047v3.pdf...\n",
      "Copying gs://arxiv-dataset/arxiv/cs/pdf/0302/0302034v1.pdf...\n",
      "Copying gs://arxiv-dataset/arxiv/cs/pdf/0304/0304022v1.pdf...\n",
      "Copying gs://arxiv-dataset/arxiv/cs/pdf/0404/0404034v1.pdf...\n",
      "Copying gs://arxiv-dataset/arxiv/cs/pdf/0301/0301004v1.pdf...\n",
      "Copying gs://arxiv-dataset/arxiv/cs/pdf/0609/0609105v1.pdf...\n",
      "Copying gs://arxiv-dataset/arxiv/cs/pdf/0607/0607131v1.pdf...\n",
      "Copying gs://arxiv-dataset/arxiv/cs/pdf/0005/0005003v1.pdf...\n",
      "Copying gs://arxiv-dataset/arxiv/cs/pdf/0702/0702046v17.pdf...\n",
      "Copying gs://arxiv-dataset/arxiv/cs/pdf/9907/9907013v1.pdf...\n",
      "Copying gs://arxiv-dataset/arxiv/cs/pdf/0109/0109021v2.pdf...\n",
      "Copying gs://arxiv-dataset/arxiv/cs/pdf/0505/0505013v3.pdf...\n",
      "Copying gs://arxiv-dataset/arxiv/cs/pdf/9505/9505104v1.pdf...\n",
      "Copying gs://arxiv-dataset/arxiv/cs/pdf/0306/0306062v1.pdf...\n",
      "Copying gs://arxiv-dataset/arxiv/cs/pdf/0006/0006016v1.pdf...\n",
      "Copying gs://arxiv-dataset/arxiv/cs/pdf/0308/0308028v1.pdf...\n",
      "Copying gs://arxiv-dataset/arxiv/cs/pdf/0402/0402059v2.pdf...\n",
      "Copying gs://arxiv-dataset/arxiv/cs/pdf/0308/0308043v1.pdf...\n",
      "Copying gs://arxiv-dataset/arxiv/cs/pdf/0102/0102008v1.pdf...\n",
      "Copying gs://arxiv-dataset/arxiv/cs/pdf/0508/0508065v1.pdf...\n",
      "Copying gs://arxiv-dataset/arxiv/cs/pdf/0601/0601005v1.pdf...\n",
      "Copying gs://arxiv-dataset/arxiv/cs/pdf/0311/0311028v1.pdf...\n",
      "Copying gs://arxiv-dataset/arxiv/cs/pdf/0503/0503030v2.pdf...\n",
      "Copying gs://arxiv-dataset/arxiv/cs/pdf/0701/0701102v1.pdf...\n",
      "Copying gs://arxiv-dataset/arxiv/cs/pdf/0703/0703079v1.pdf...\n",
      "Copying gs://arxiv-dataset/arxiv/cs/pdf/0507/0507008v3.pdf...\n",
      "Copying gs://arxiv-dataset/arxiv/cs/pdf/0305/0305019v1.pdf...\n",
      "Copying gs://arxiv-dataset/arxiv/cs/pdf/0008/0008005v1.pdf...\n",
      "Copying gs://arxiv-dataset/arxiv/cs/pdf/0605/0605037v1.pdf...\n",
      "Copying gs://arxiv-dataset/arxiv/cs/pdf/0702/0702028v1.pdf...\n",
      "Copying gs://arxiv-dataset/arxiv/cs/pdf/0412/0412095v1.pdf...\n",
      "Copying gs://arxiv-dataset/arxiv/cs/pdf/0304/0304015v1.pdf...\n",
      "Copying gs://arxiv-dataset/arxiv/cs/pdf/0307/0307043v1.pdf...\n",
      "Copying gs://arxiv-dataset/arxiv/cs/pdf/0509/0509029v4.pdf...\n",
      "Copying gs://arxiv-dataset/arxiv/cs/pdf/0609/0609146v1.pdf...\n",
      "Copying gs://arxiv-dataset/arxiv/cs/pdf/0109/0109011v1.pdf...\n",
      "Copying gs://arxiv-dataset/arxiv/cs/pdf/0307/0307030v1.pdf...\n",
      "Copying gs://arxiv-dataset/arxiv/cs/pdf/0607/0607093v10.pdf...\n",
      "Copying gs://arxiv-dataset/arxiv/cs/pdf/0208/0208038v1.pdf...\n",
      "Copying gs://arxiv-dataset/arxiv/cs/pdf/0505/0505016v1.pdf...\n",
      "Copying gs://arxiv-dataset/arxiv/cs/pdf/0011/0011037v2.pdf...\n",
      "Copying gs://arxiv-dataset/arxiv/cs/pdf/9809/9809006v1.pdf...\n",
      "Copying gs://arxiv-dataset/arxiv/cs/pdf/0210/0210010v1.pdf...\n",
      "Copying gs://arxiv-dataset/arxiv/cs/pdf/0602/0602009v72.pdf...\n",
      "Copying gs://arxiv-dataset/arxiv/cs/pdf/0203/0203023v1.pdf...\n",
      "Copying gs://arxiv-dataset/arxiv/cs/pdf/0601/0601076v1.pdf...\n",
      "Copying gs://arxiv-dataset/arxiv/cs/pdf/0412/0412080v1.pdf...\n",
      "Copying gs://arxiv-dataset/arxiv/cs/pdf/0005/0005019v1.pdf...\n",
      "Copying gs://arxiv-dataset/arxiv/cs/pdf/0110/0110015v1.pdf...\n",
      "Copying gs://arxiv-dataset/arxiv/cs/pdf/0307/0307055v1.pdf...\n",
      "Copying gs://arxiv-dataset/arxiv/cs/pdf/0203/0203029v21.pdf...\n",
      "Copying gs://arxiv-dataset/arxiv/cs/pdf/0604/0604022v2.pdf...\n",
      "Copying gs://arxiv-dataset/arxiv/cs/pdf/0607/0607093v5.pdf...\n",
      "Copying gs://arxiv-dataset/arxiv/cs/pdf/0607/0607008v1.pdf...\n",
      "Copying gs://arxiv-dataset/arxiv/cs/pdf/0301/0301011v1.pdf...\n",
      "Copying gs://arxiv-dataset/arxiv/cs/pdf/0512/0512101v2.pdf...\n",
      "Copying gs://arxiv-dataset/arxiv/cs/pdf/0109/0109007v2.pdf...\n",
      "Copying gs://arxiv-dataset/arxiv/cs/pdf/0702/0702021v3.pdf...\n",
      "Copying gs://arxiv-dataset/arxiv/cs/pdf/0610/0610153v1.pdf...\n",
      "Copying gs://arxiv-dataset/arxiv/cs/pdf/0702/0702161v2.pdf...\n",
      "Copying gs://arxiv-dataset/arxiv/cs/pdf/9811/9811022v2.pdf...\n",
      "Copying gs://arxiv-dataset/arxiv/cs/pdf/0001/0001010v1.pdf...\n",
      "Copying gs://arxiv-dataset/arxiv/cs/pdf/0102/0102015v1.pdf...\n",
      "Copying gs://arxiv-dataset/arxiv/cs/pdf/0609/0609018v1.pdf...\n",
      "Copying gs://arxiv-dataset/arxiv/cs/pdf/0404/0404015v2.pdf...\n",
      "Copying gs://arxiv-dataset/arxiv/cs/pdf/9906/9906031v1.pdf...\n",
      "Copying gs://arxiv-dataset/arxiv/cs/pdf/0604/0604101v1.pdf...\n",
      "Copying gs://arxiv-dataset/arxiv/cs/pdf/0001/0001008v1.pdf...\n",
      "Copying gs://arxiv-dataset/arxiv/cs/pdf/0603/0603058v2.pdf...\n",
      "Copying gs://arxiv-dataset/arxiv/cs/pdf/0607/0607146v3.pdf...\n",
      "Copying gs://arxiv-dataset/arxiv/cs/pdf/0207/0207002v1.pdf...\n",
      "Copying gs://arxiv-dataset/arxiv/cs/pdf/0305/0305030v1.pdf...\n",
      "Copying gs://arxiv-dataset/arxiv/cs/pdf/9907/9907041v1.pdf...\n",
      "Copying gs://arxiv-dataset/arxiv/cs/pdf/0011/0011018v1.pdf...\n",
      "Copying gs://arxiv-dataset/arxiv/cs/pdf/0311/0311006v1.pdf...\n",
      "Copying gs://arxiv-dataset/arxiv/cs/pdf/0410/0410035v1.pdf...\n",
      "Copying gs://arxiv-dataset/arxiv/cs/pdf/0308/0308014v1.pdf...\n",
      "Copying gs://arxiv-dataset/arxiv/cs/pdf/0505/0505053v1.pdf...\n",
      "Copying gs://arxiv-dataset/arxiv/cs/pdf/0609/0609008v2.pdf...\n",
      "Copying gs://arxiv-dataset/arxiv/cs/pdf/0612/0612016v2.pdf...\n",
      "Copying gs://arxiv-dataset/arxiv/cs/pdf/0506/0506050v1.pdf...\n",
      "Copying gs://arxiv-dataset/arxiv/cs/pdf/9705/9705101v1.pdf...\n",
      "Copying gs://arxiv-dataset/arxiv/cs/pdf/0609/0609023v1.pdf...\n",
      "Copying gs://arxiv-dataset/arxiv/cs/pdf/0608/0608111v1.pdf...\n",
      "Copying gs://arxiv-dataset/arxiv/cs/pdf/0109/0109042v1.pdf...\n",
      "Copying gs://arxiv-dataset/arxiv/cs/pdf/0310/0310051v8.pdf...\n",
      "Copying gs://arxiv-dataset/arxiv/cs/pdf/0309/0309054v1.pdf...\n",
      "Copying gs://arxiv-dataset/arxiv/cs/pdf/0302/0302003v1.pdf...\n",
      "Copying gs://arxiv-dataset/arxiv/cs/pdf/0703/0703106v1.pdf...\n",
      "Copying gs://arxiv-dataset/arxiv/cs/pdf/0406/0406046v1.pdf...\n",
      "Copying gs://arxiv-dataset/arxiv/cs/pdf/0502/0502026v5.pdf...\n",
      "Copying gs://arxiv-dataset/arxiv/cs/pdf/0006/0006025v1.pdf...\n",
      "Copying gs://arxiv-dataset/arxiv/cs/pdf/0607/0607143v1.pdf...\n",
      "Copying gs://arxiv-dataset/arxiv/cs/pdf/9808/9808004v1.pdf...\n",
      "Copying gs://arxiv-dataset/arxiv/cs/pdf/0411/0411043v1.pdf...\n",
      "Copying gs://arxiv-dataset/arxiv/cs/pdf/0610/0610160v1.pdf...\n",
      "Copying gs://arxiv-dataset/arxiv/cs/pdf/0003/0003006v1.pdf...\n",
      "Copying gs://arxiv-dataset/arxiv/cs/pdf/0006/0006036v1.pdf...\n",
      "Copying gs://arxiv-dataset/arxiv/cs/pdf/0201/0201005v1.pdf...\n",
      "Copying gs://arxiv-dataset/arxiv/cs/pdf/0605/0605052v2.pdf...\n",
      "Copying gs://arxiv-dataset/arxiv/cs/pdf/0306/0306007v1.pdf...\n",
      "Copying gs://arxiv-dataset/arxiv/cs/pdf/0506/0506104v1.pdf...\n",
      "Copying gs://arxiv-dataset/arxiv/cs/pdf/0703/0703068v1.pdf...\n",
      "Copying gs://arxiv-dataset/arxiv/cs/pdf/0211/0211013v1.pdf...\n",
      "Copying gs://arxiv-dataset/arxiv/cs/pdf/0007/0007043v1.pdf...\n",
      "Copying gs://arxiv-dataset/arxiv/cs/pdf/0702/0702158v1.pdf...\n",
      "Copying gs://arxiv-dataset/arxiv/cs/pdf/0611/0611147v3.pdf...\n",
      "Copying gs://arxiv-dataset/arxiv/cs/pdf/0608/0608032v2.pdf...\n",
      "Copying gs://arxiv-dataset/arxiv/cs/pdf/0205/0205030v1.pdf...\n",
      "Copying gs://arxiv-dataset/arxiv/cs/pdf/0610/0610081v2.pdf...\n",
      "Copying gs://arxiv-dataset/arxiv/cs/pdf/9406/9406102v1.pdf...\n",
      "Copying gs://arxiv-dataset/arxiv/cs/pdf/9301/9301102v1.pdf...\n",
      "Copying gs://arxiv-dataset/arxiv/cs/pdf/0610/0610123v2.pdf...\n",
      "Copying gs://arxiv-dataset/arxiv/cs/pdf/0610/0610021v1.pdf...\n",
      "Copying gs://arxiv-dataset/arxiv/cs/pdf/0510/0510058v1.pdf...\n",
      "Copying gs://arxiv-dataset/arxiv/cs/pdf/0501/0501082v2.pdf...\n",
      "Copying gs://arxiv-dataset/arxiv/cs/pdf/0703/0703118v2.pdf...\n",
      "Copying gs://arxiv-dataset/arxiv/cs/pdf/0608/0608094v2.pdf...\n",
      "Copying gs://arxiv-dataset/arxiv/cs/pdf/0012/0012013v5.pdf...\n",
      "Copying gs://arxiv-dataset/arxiv/cs/pdf/0408/0408021v1.pdf...\n",
      "Copying gs://arxiv-dataset/arxiv/cs/pdf/0207/0207037v1.pdf...\n",
      "Copying gs://arxiv-dataset/arxiv/cs/pdf/0702/0702070v1.pdf...\n",
      "Copying gs://arxiv-dataset/arxiv/cs/pdf/0104/0104016v3.pdf...\n",
      "Copying gs://arxiv-dataset/arxiv/cs/pdf/0609/0609031v1.pdf...\n",
      "Copying gs://arxiv-dataset/arxiv/cs/pdf/0504/0504018v1.pdf...\n",
      "Copying gs://arxiv-dataset/arxiv/cs/pdf/0411/0411014v4.pdf...\n",
      "Copying gs://arxiv-dataset/arxiv/cs/pdf/0701/0701120v1.pdf...\n",
      "Copying gs://arxiv-dataset/arxiv/cs/pdf/9910/9910015v1.pdf...\n",
      "Copying gs://arxiv-dataset/arxiv/cs/pdf/0505/0505049v1.pdf...\n",
      "Copying gs://arxiv-dataset/arxiv/cs/pdf/0604/0604071v1.pdf...\n",
      "Copying gs://arxiv-dataset/arxiv/cs/pdf/0504/0504027v1.pdf...\n",
      "Copying gs://arxiv-dataset/arxiv/cs/pdf/0411/0411049v2.pdf...\n",
      "Copying gs://arxiv-dataset/arxiv/cs/pdf/9809/9809084v1.pdf...\n",
      "Copying gs://arxiv-dataset/arxiv/cs/pdf/0603/0603094v2.pdf...\n",
      "Copying gs://arxiv-dataset/arxiv/cs/pdf/0412/0412029v1.pdf...\n",
      "Copying gs://arxiv-dataset/arxiv/cs/pdf/0703/0703136v3.pdf...\n",
      "Copying gs://arxiv-dataset/arxiv/cs/pdf/9811/9811002v1.pdf...\n",
      "Copying gs://arxiv-dataset/arxiv/cs/pdf/0208/0208014v1.pdf...\n",
      "Copying gs://arxiv-dataset/arxiv/cs/pdf/0010/0010013v1.pdf...\n",
      "Copying gs://arxiv-dataset/arxiv/cs/pdf/0505/0505028v2.pdf...\n",
      "Copying gs://arxiv-dataset/arxiv/cs/pdf/0601/0601075v2.pdf...\n",
      "Copying gs://arxiv-dataset/arxiv/cs/pdf/0506/0506041v1.pdf...\n",
      "Copying gs://arxiv-dataset/arxiv/cs/pdf/0006/0006047v1.pdf...\n",
      "Copying gs://arxiv-dataset/arxiv/cs/pdf/9811/9811018v3.pdf...\n",
      "Copying gs://arxiv-dataset/arxiv/cs/pdf/0505/0505065v1.pdf...\n",
      "Copying gs://arxiv-dataset/arxiv/cs/pdf/0606/0606087v1.pdf...\n",
      "Copying gs://arxiv-dataset/arxiv/cs/pdf/0602/0602033v1.pdf...\n",
      "Copying gs://arxiv-dataset/arxiv/cs/pdf/0702/0702132v4.pdf...\n",
      "Copying gs://arxiv-dataset/arxiv/cs/pdf/0407/0407057v1.pdf...\n",
      "Copying gs://arxiv-dataset/arxiv/cs/pdf/0402/0402052v1.pdf...\n",
      "Copying gs://arxiv-dataset/arxiv/cs/pdf/0509/0509065v1.pdf...\n",
      "Copying gs://arxiv-dataset/arxiv/cs/pdf/0404/0404055v1.pdf...\n",
      "Copying gs://arxiv-dataset/arxiv/cs/pdf/0601/0601109v3.pdf...\n",
      "Copying gs://arxiv-dataset/arxiv/cs/pdf/0510/0510038v3.pdf...\n",
      "Copying gs://arxiv-dataset/arxiv/cs/pdf/0609/0609113v1.pdf...\n",
      "Copying gs://arxiv-dataset/arxiv/cs/pdf/9811/9811024v1.pdf...\n",
      "Copying gs://arxiv-dataset/arxiv/cs/pdf/0702/0702121v2.pdf...\n",
      "Copying gs://arxiv-dataset/arxiv/cs/pdf/0503/0503035v1.pdf...\n",
      "Copying gs://arxiv-dataset/arxiv/cs/pdf/0612/0612055v1.pdf...\n",
      "Copying gs://arxiv-dataset/arxiv/cs/pdf/0104/0104021v2.pdf...\n",
      "Copying gs://arxiv-dataset/arxiv/cs/pdf/0611/0611166v1.pdf...\n",
      "Copying gs://arxiv-dataset/arxiv/cs/pdf/9910/9910018v1.pdf...\n",
      "Copying gs://arxiv-dataset/arxiv/cs/pdf/0410/0410013v2.pdf...\n",
      "Copying gs://arxiv-dataset/arxiv/cs/pdf/0601/0601115v2.pdf...\n",
      "Copying gs://arxiv-dataset/arxiv/cs/pdf/9906/9906004v1.pdf...\n",
      "Copying gs://arxiv-dataset/arxiv/cs/pdf/0102/0102027v2.pdf...\n",
      "Copying gs://arxiv-dataset/arxiv/cs/pdf/0608/0608037v2.pdf...\n",
      "Copying gs://arxiv-dataset/arxiv/cs/pdf/0602/0602049v1.pdf...\n",
      "Copying gs://arxiv-dataset/arxiv/cs/pdf/0610/0610030v1.pdf...\n",
      "Copying gs://arxiv-dataset/arxiv/cs/pdf/0504/0504031v1.pdf...\n",
      "Copying gs://arxiv-dataset/arxiv/cs/pdf/0012/0012013v16.pdf...\n",
      "Copying gs://arxiv-dataset/arxiv/cs/pdf/0109/0109002v1.pdf...\n",
      "Copying gs://arxiv-dataset/arxiv/cs/pdf/0312/0312035v1.pdf...\n",
      "Copying gs://arxiv-dataset/arxiv/cs/pdf/0412/0412092v1.pdf...\n",
      "Copying gs://arxiv-dataset/arxiv/cs/pdf/0410/0410054v1.pdf...\n",
      "Copying gs://arxiv-dataset/arxiv/cs/pdf/0506/0506017v1.pdf...\n",
      "Copying gs://arxiv-dataset/arxiv/cs/pdf/0504/0504017v1.pdf...\n",
      "Copying gs://arxiv-dataset/arxiv/cs/pdf/0103/0103008v2.pdf...\n",
      "Copying gs://arxiv-dataset/arxiv/cs/pdf/0607/0607036v1.pdf...\n",
      "Copying gs://arxiv-dataset/arxiv/cs/pdf/0307/0307045v1.pdf...\n",
      "Copying gs://arxiv-dataset/arxiv/cs/pdf/0512/0512093v1.pdf...\n",
      "Copying gs://arxiv-dataset/arxiv/cs/pdf/0604/0604065v2.pdf...\n",
      "Copying gs://arxiv-dataset/arxiv/cs/pdf/0607/0607111v1.pdf...\n",
      "Copying gs://arxiv-dataset/arxiv/cs/pdf/0603/0603109v1.pdf...\n",
      "Copying gs://arxiv-dataset/arxiv/cs/pdf/0412/0412063v4.pdf...\n",
      "Copying gs://arxiv-dataset/arxiv/cs/pdf/0402/0402034v1.pdf...\n",
      "Copying gs://arxiv-dataset/arxiv/cs/pdf/0502/0502091v1.pdf...\n",
      "Copying gs://arxiv-dataset/arxiv/cs/pdf/0207/0207023v2.pdf...\n",
      "Copying gs://arxiv-dataset/arxiv/cs/pdf/0204/0204047v1.pdf...\n",
      "Copying gs://arxiv-dataset/arxiv/cs/pdf/0503/0503042v1.pdf...\n",
      "Copying gs://arxiv-dataset/arxiv/cs/pdf/0306/0306017v1.pdf...\n",
      "Copying gs://arxiv-dataset/arxiv/cs/pdf/0602/0602009v86.pdf...\n",
      "Copying gs://arxiv-dataset/arxiv/cs/pdf/0605/0605029v1.pdf...\n",
      "Copying gs://arxiv-dataset/arxiv/cs/pdf/0006/0006023v2.pdf...\n",
      "Copying gs://arxiv-dataset/arxiv/cs/pdf/0512/0512102v1.pdf...\n",
      "Copying gs://arxiv-dataset/arxiv/cs/pdf/0703/0703048v2.pdf...\n",
      "Copying gs://arxiv-dataset/arxiv/cs/pdf/0511/0511089v1.pdf...\n",
      "Copying gs://arxiv-dataset/arxiv/cs/pdf/0411/0411004v1.pdf...\n",
      "Copying gs://arxiv-dataset/arxiv/cs/pdf/0612/0612083v2.pdf...\n",
      "Copying gs://arxiv-dataset/arxiv/cs/pdf/0601/0601019v1.pdf...\n",
      "Copying gs://arxiv-dataset/arxiv/cs/pdf/0407/0407045v1.pdf...\n",
      "Copying gs://arxiv-dataset/arxiv/cs/pdf/0701/0701105v1.pdf...\n",
      "Copying gs://arxiv-dataset/arxiv/cs/pdf/9809/9809033v2.pdf...\n",
      "Copying gs://arxiv-dataset/arxiv/cs/pdf/0509/0509037v1.pdf...\n",
      "Copying gs://arxiv-dataset/arxiv/cs/pdf/0109/0109036v1.pdf...\n",
      "Copying gs://arxiv-dataset/arxiv/cs/pdf/0407/0407026v1.pdf...\n",
      "Copying gs://arxiv-dataset/arxiv/cs/pdf/0701/0701085v2.pdf...\n",
      "Copying gs://arxiv-dataset/arxiv/cs/pdf/0304/0304039v1.pdf...\n",
      "Copying gs://arxiv-dataset/arxiv/cs/pdf/0512/0512100v3.pdf...\n",
      "Copying gs://arxiv-dataset/arxiv/cs/pdf/0209/0209025v1.pdf...\n",
      "Copying gs://arxiv-dataset/arxiv/cs/pdf/9810/9810015v1.pdf...\n",
      "Copying gs://arxiv-dataset/arxiv/cs/pdf/0203/0203029v9.pdf...\n",
      "Copying gs://arxiv-dataset/arxiv/cs/pdf/0511/0511029v1.pdf...\n",
      "Copying gs://arxiv-dataset/arxiv/cs/pdf/0512/0512084v1.pdf...\n",
      "Copying gs://arxiv-dataset/arxiv/cs/pdf/0209/0209020v1.pdf...\n",
      "Copying gs://arxiv-dataset/arxiv/cs/pdf/0703/0703109v1.pdf...\n",
      "Copying gs://arxiv-dataset/arxiv/cs/pdf/0204/0204031v1.pdf...\n",
      "Copying gs://arxiv-dataset/arxiv/cs/pdf/9902/9902022v1.pdf...\n",
      "Copying gs://arxiv-dataset/arxiv/cs/pdf/0601/0601069v1.pdf...\n",
      "Copying gs://arxiv-dataset/arxiv/cs/pdf/9903/9903013v1.pdf...\n",
      "Copying gs://arxiv-dataset/arxiv/cs/pdf/0512/0512088v4.pdf...\n",
      "Copying gs://arxiv-dataset/arxiv/cs/pdf/0303/0303029v2.pdf...\n",
      "Copying gs://arxiv-dataset/arxiv/cs/pdf/0411/0411039v1.pdf...\n",
      "Copying gs://arxiv-dataset/arxiv/cs/pdf/0702/0702120v1.pdf...\n",
      "Copying gs://arxiv-dataset/arxiv/cs/pdf/0505/0505082v1.pdf...\n",
      "Copying gs://arxiv-dataset/arxiv/cs/pdf/0601/0601040v1.pdf...\n",
      "Copying gs://arxiv-dataset/arxiv/cs/pdf/0603/0603030v1.pdf...\n",
      "Copying gs://arxiv-dataset/arxiv/cs/pdf/0504/0504026v2.pdf...\n",
      "Copying gs://arxiv-dataset/arxiv/cs/pdf/0701/0701200v1.pdf...\n",
      "Copying gs://arxiv-dataset/arxiv/cs/pdf/0610/0610045v1.pdf...\n",
      "Copying gs://arxiv-dataset/arxiv/cs/pdf/0507/0507046v1.pdf...\n",
      "Copying gs://arxiv-dataset/arxiv/cs/pdf/0504/0504070v1.pdf...\n",
      "Copying gs://arxiv-dataset/arxiv/cs/pdf/0606/0606053v1.pdf...\n",
      "Copying gs://arxiv-dataset/arxiv/cs/pdf/0701/0701020v1.pdf...\n",
      "Copying gs://arxiv-dataset/arxiv/cs/pdf/0608/0608122v2.pdf...\n",
      "Copying gs://arxiv-dataset/arxiv/cs/pdf/0007/0007030v2.pdf...\n",
      "Copying gs://arxiv-dataset/arxiv/cs/pdf/0403/0403026v1.pdf...\n",
      "Copying gs://arxiv-dataset/arxiv/cs/pdf/0405/0405103v1.pdf...\n",
      "Copying gs://arxiv-dataset/arxiv/cs/pdf/0011/0011026v3.pdf...\n",
      "Copying gs://arxiv-dataset/arxiv/cs/pdf/0501/0501096v1.pdf...\n",
      "Copying gs://arxiv-dataset/arxiv/cs/pdf/0701/0701123v3.pdf...\n",
      "Copying gs://arxiv-dataset/arxiv/cs/pdf/9910/9910014v2.pdf...\n",
      "Copying gs://arxiv-dataset/arxiv/cs/pdf/9301/9301112v1.pdf...\n",
      "Copying gs://arxiv-dataset/arxiv/cs/pdf/0702/0702037v1.pdf...\n",
      "Copying gs://arxiv-dataset/arxiv/cs/pdf/0105/0105015v1.pdf...\n",
      "Copying gs://arxiv-dataset/arxiv/cs/pdf/0009/0009024v1.pdf...\n",
      "Copying gs://arxiv-dataset/arxiv/cs/pdf/0306/0306104v1.pdf...\n",
      "Copying gs://arxiv-dataset/arxiv/cs/pdf/0010/0010025v1.pdf...\n",
      "Copying gs://arxiv-dataset/arxiv/cs/pdf/0305/0305035v26.pdf...\n",
      "Copying gs://arxiv-dataset/arxiv/cs/pdf/0209/0209010v1.pdf...\n",
      "Copying gs://arxiv-dataset/arxiv/cs/pdf/0607/0607039v1.pdf...\n",
      "Copying gs://arxiv-dataset/arxiv/cs/pdf/0702/0702015v1.pdf...\n",
      "Copying gs://arxiv-dataset/arxiv/cs/pdf/0512/0512063v1.pdf...\n",
      "Copying gs://arxiv-dataset/arxiv/cs/pdf/0608/0608042v2.pdf...\n",
      "Copying gs://arxiv-dataset/arxiv/cs/pdf/0602/0602009v43.pdf...\n",
      "Copying gs://arxiv-dataset/arxiv/cs/pdf/0503/0503062v1.pdf...\n",
      "Copying gs://arxiv-dataset/arxiv/cs/pdf/0010/0010023v1.pdf...\n",
      "Copying gs://arxiv-dataset/arxiv/cs/pdf/0501/0501084v1.pdf...\n",
      "Copying gs://arxiv-dataset/arxiv/cs/pdf/0605/0605016v1.pdf...\n",
      "Copying gs://arxiv-dataset/arxiv/cs/pdf/0702/0702045v1.pdf...\n",
      "Copying gs://arxiv-dataset/arxiv/cs/pdf/0311/0311030v1.pdf...\n",
      "Copying gs://arxiv-dataset/arxiv/cs/pdf/0703/0703015v1.pdf...\n",
      "Copying gs://arxiv-dataset/arxiv/cs/pdf/0511/0511108v1.pdf...\n",
      "Copying gs://arxiv-dataset/arxiv/cs/pdf/0703/0703110v3.pdf...\n",
      "Copying gs://arxiv-dataset/arxiv/cs/pdf/9511/9511103v1.pdf...\n",
      "Copying gs://arxiv-dataset/arxiv/cs/pdf/0012/0012022v1.pdf...\n",
      "Copying gs://arxiv-dataset/arxiv/cs/pdf/0506/0506002v1.pdf...\n",
      "Copying gs://arxiv-dataset/arxiv/cs/pdf/0403/0403041v1.pdf...\n",
      "Copying gs://arxiv-dataset/arxiv/cs/pdf/0701/0701161v1.pdf...\n",
      "Copying gs://arxiv-dataset/arxiv/cs/pdf/0412/0412069v1.pdf...\n",
      "Copying gs://arxiv-dataset/arxiv/cs/pdf/9906/9906034v1.pdf...\n",
      "Copying gs://arxiv-dataset/arxiv/cs/pdf/0503/0503056v1.pdf...\n",
      "Copying gs://arxiv-dataset/arxiv/cs/pdf/0203/0203029v20.pdf...\n",
      "Copying gs://arxiv-dataset/arxiv/cs/pdf/0305/0305053v1.pdf...\n",
      "Copying gs://arxiv-dataset/arxiv/cs/pdf/0701/0701195v1.pdf...\n",
      "Copying gs://arxiv-dataset/arxiv/cs/pdf/0608/0608034v1.pdf...\n",
      "Copying gs://arxiv-dataset/arxiv/cs/pdf/0409/0409033v1.pdf...\n",
      "Copying gs://arxiv-dataset/arxiv/cs/pdf/9904/9904019v1.pdf...\n",
      "Copying gs://arxiv-dataset/arxiv/cs/pdf/0610/0610120v2.pdf...\n",
      "Copying gs://arxiv-dataset/arxiv/cs/pdf/0110/0110042v1.pdf...\n",
      "Copying gs://arxiv-dataset/arxiv/cs/pdf/0606/0606004v1.pdf...\n",
      "Copying gs://arxiv-dataset/arxiv/cs/pdf/0501/0501007v1.pdf...\n",
      "Copying gs://arxiv-dataset/arxiv/cs/pdf/0411/0411010v2.pdf...\n",
      "Copying gs://arxiv-dataset/arxiv/cs/pdf/0404/0404037v2.pdf...\n",
      "Copying gs://arxiv-dataset/arxiv/cs/pdf/0402/0402035v1.pdf...\n",
      "Copying gs://arxiv-dataset/arxiv/cs/pdf/0703/0703002v4.pdf...\n",
      "Copying gs://arxiv-dataset/arxiv/cs/pdf/9506/9506102v1.pdf...\n",
      "Copying gs://arxiv-dataset/arxiv/cs/pdf/0604/0604105v1.pdf...\n",
      "Copying gs://arxiv-dataset/arxiv/cs/pdf/0307/0307060v2.pdf...\n",
      "Copying gs://arxiv-dataset/arxiv/cs/pdf/0407/0407015v2.pdf...\n",
      "Copying gs://arxiv-dataset/arxiv/cs/pdf/0606/0606042v1.pdf...\n",
      "Copying gs://arxiv-dataset/arxiv/cs/pdf/9810/9810001v1.pdf...\n",
      "Copying gs://arxiv-dataset/arxiv/cs/pdf/0310/0310030v1.pdf...\n",
      "Copying gs://arxiv-dataset/arxiv/cs/pdf/0606/0606104v6.pdf...\n",
      "Copying gs://arxiv-dataset/arxiv/cs/pdf/0409/0409057v2.pdf...\n",
      "Copying gs://arxiv-dataset/arxiv/cs/pdf/0601/0601028v1.pdf...\n",
      "Copying gs://arxiv-dataset/arxiv/cs/pdf/0306/0306099v1.pdf...\n",
      "Copying gs://arxiv-dataset/arxiv/cs/pdf/0205/0205027v1.pdf...\n",
      "Copying gs://arxiv-dataset/arxiv/cs/pdf/0509/0509025v3.pdf...\n",
      "Copying gs://arxiv-dataset/arxiv/cs/pdf/0602/0602009v53.pdf...\n",
      "Copying gs://arxiv-dataset/arxiv/cs/pdf/0610/0610046v5.pdf...\n",
      "Copying gs://arxiv-dataset/arxiv/cs/pdf/0409/0409002v1.pdf...\n",
      "Copying gs://arxiv-dataset/arxiv/cs/pdf/0111/0111033v1.pdf...\n",
      "Copying gs://arxiv-dataset/arxiv/cs/pdf/0701/0701098v2.pdf...\n",
      "Copying gs://arxiv-dataset/arxiv/cs/pdf/0606/0606124v2.pdf...\n",
      "Copying gs://arxiv-dataset/arxiv/cs/pdf/0701/0701151v1.pdf...\n",
      "Copying gs://arxiv-dataset/arxiv/cs/pdf/0209/0209014v1.pdf...\n",
      "Copying gs://arxiv-dataset/arxiv/cs/pdf/0612/0612049v1.pdf...\n",
      "Copying gs://arxiv-dataset/arxiv/cs/pdf/0410/0410023v1.pdf...\n",
      "Copying gs://arxiv-dataset/arxiv/cs/pdf/0602/0602085v4.pdf...\n",
      "Copying gs://arxiv-dataset/arxiv/cs/pdf/0608/0608107v3.pdf...\n",
      "Copying gs://arxiv-dataset/arxiv/cs/pdf/0607/0607011v2.pdf...\n",
      "Copying gs://arxiv-dataset/arxiv/cs/pdf/0511/0511097v2.pdf...\n",
      "Copying gs://arxiv-dataset/arxiv/cs/pdf/9809/9809007v1.pdf...\n",
      "Copying gs://arxiv-dataset/arxiv/cs/pdf/0701/0701107v1.pdf...\n",
      "Copying gs://arxiv-dataset/arxiv/cs/pdf/0407/0407027v1.pdf...\n",
      "Copying gs://arxiv-dataset/arxiv/cs/pdf/0211/0211010v2.pdf...\n",
      "Copying gs://arxiv-dataset/arxiv/cs/pdf/9902/9902024v1.pdf...\n",
      "Copying gs://arxiv-dataset/arxiv/cs/pdf/0305/0305063v2.pdf...\n",
      "Copying gs://arxiv-dataset/arxiv/cs/pdf/0307/0307010v1.pdf...\n",
      "Copying gs://arxiv-dataset/arxiv/cs/pdf/9301/9301116v1.pdf...\n",
      "Copying gs://arxiv-dataset/arxiv/cs/pdf/0405/0405007v1.pdf...\n",
      "Copying gs://arxiv-dataset/arxiv/cs/pdf/0110/0110059v2.pdf...\n",
      "Copying gs://arxiv-dataset/arxiv/cs/pdf/0510/0510083v1.pdf...\n",
      "Copying gs://arxiv-dataset/arxiv/cs/pdf/0601/0601012v3.pdf...\n",
      "Copying gs://arxiv-dataset/arxiv/cs/pdf/0511/0511046v1.pdf...\n",
      "Copying gs://arxiv-dataset/arxiv/cs/pdf/0204/0204037v1.pdf...\n",
      "Copying gs://arxiv-dataset/arxiv/cs/pdf/0206/0206028v2.pdf...\n",
      "Copying gs://arxiv-dataset/arxiv/cs/pdf/0511/0511015v1.pdf...\n",
      "Copying gs://arxiv-dataset/arxiv/cs/pdf/0612/0612131v1.pdf...\n",
      "Copying gs://arxiv-dataset/arxiv/cs/pdf/0403/0403025v1.pdf...\n",
      "Copying gs://arxiv-dataset/arxiv/cs/pdf/0402/0402021v1.pdf...\n",
      "Copying gs://arxiv-dataset/arxiv/cs/pdf/0205/0205021v1.pdf...\n",
      "Copying gs://arxiv-dataset/arxiv/cs/pdf/0505/0505048v1.pdf...\n",
      "Copying gs://arxiv-dataset/arxiv/cs/pdf/0605/0605067v1.pdf...\n",
      "Copying gs://arxiv-dataset/arxiv/cs/pdf/0306/0306096v1.pdf...\n",
      "Copying gs://arxiv-dataset/arxiv/cs/pdf/9705/9705102v1.pdf...\n",
      "Copying gs://arxiv-dataset/arxiv/cs/pdf/0511/0511057v1.pdf...\n",
      "Copying gs://arxiv-dataset/arxiv/cs/pdf/0601/0601117v2.pdf...\n",
      "Copying gs://arxiv-dataset/arxiv/cs/pdf/0604/0604085v1.pdf...\n",
      "Copying gs://arxiv-dataset/arxiv/cs/pdf/0212/0212050v2.pdf...\n",
      "Copying gs://arxiv-dataset/arxiv/cs/pdf/0410/0410036v2.pdf...\n",
      "Copying gs://arxiv-dataset/arxiv/cs/pdf/0407/0407064v1.pdf...\n",
      "Copying gs://arxiv-dataset/arxiv/cs/pdf/0511/0511086v1.pdf...\n",
      "Copying gs://arxiv-dataset/arxiv/cs/pdf/0206/0206010v1.pdf...\n",
      "Copying gs://arxiv-dataset/arxiv/cs/pdf/0008/0008035v1.pdf...\n",
      "Copying gs://arxiv-dataset/arxiv/cs/pdf/0304/0304005v1.pdf...\n",
      "Copying gs://arxiv-dataset/arxiv/cs/pdf/0102/0102018v1.pdf...\n",
      "Copying gs://arxiv-dataset/arxiv/cs/pdf/0306/0306117v1.pdf...\n",
      "Copying gs://arxiv-dataset/arxiv/cs/pdf/0305/0305025v1.pdf...\n",
      "Copying gs://arxiv-dataset/arxiv/cs/pdf/0411/0411026v1.pdf...\n",
      "Copying gs://arxiv-dataset/arxiv/cs/pdf/0610/0610009v2.pdf...\n",
      "Copying gs://arxiv-dataset/arxiv/cs/pdf/0109/0109050v1.pdf...\n",
      "Copying gs://arxiv-dataset/arxiv/cs/pdf/0206/0206041v1.pdf...\n",
      "Copying gs://arxiv-dataset/arxiv/cs/pdf/0205/0205057v1.pdf...\n",
      "Copying gs://arxiv-dataset/arxiv/cs/pdf/0402/0402011v4.pdf...\n",
      "Copying gs://arxiv-dataset/arxiv/cs/pdf/0306/0306011v1.pdf...\n",
      "Copying gs://arxiv-dataset/arxiv/cs/pdf/0506/0506062v1.pdf...\n",
      "Copying gs://arxiv-dataset/arxiv/cs/pdf/0111/0111056v2.pdf...\n",
      "Copying gs://arxiv-dataset/arxiv/cs/pdf/0609/0609133v1.pdf...\n",
      "Copying gs://arxiv-dataset/arxiv/cs/pdf/0007/0007044v1.pdf...\n",
      "Copying gs://arxiv-dataset/arxiv/cs/pdf/0107/0107020v1.pdf...\n",
      "Copying gs://arxiv-dataset/arxiv/cs/pdf/0609/0609143v1.pdf...\n",
      "Copying gs://arxiv-dataset/arxiv/cs/pdf/0204/0204027v1.pdf...\n",
      "Copying gs://arxiv-dataset/arxiv/cs/pdf/0512/0512068v1.pdf...\n",
      "Copying gs://arxiv-dataset/arxiv/cs/pdf/0601/0601087v1.pdf...\n",
      "Copying gs://arxiv-dataset/arxiv/cs/pdf/0607/0607020v3.pdf...\n",
      "Copying gs://arxiv-dataset/arxiv/cs/pdf/0210/0210031v1.pdf...\n",
      "Copying gs://arxiv-dataset/arxiv/cs/pdf/0703/0703027v2.pdf...\n",
      "Copying gs://arxiv-dataset/arxiv/cs/pdf/0703/0703119v2.pdf...\n",
      "Copying gs://arxiv-dataset/arxiv/cs/pdf/0702/0702090v2.pdf...\n",
      "Copying gs://arxiv-dataset/arxiv/cs/pdf/0002/0002011v1.pdf...\n",
      "Copying gs://arxiv-dataset/arxiv/cs/pdf/0003/0003076v2.pdf...\n",
      "Copying gs://arxiv-dataset/arxiv/cs/pdf/0012/0012007v1.pdf...\n",
      "Copying gs://arxiv-dataset/arxiv/cs/pdf/0012/0012018v1.pdf...\n",
      "Copying gs://arxiv-dataset/arxiv/cs/pdf/0010/0010011v1.pdf...\n",
      "Copying gs://arxiv-dataset/arxiv/cs/pdf/0612/0612086v1.pdf...\n",
      "Copying gs://arxiv-dataset/arxiv/cs/pdf/0305/0305014v1.pdf...\n",
      "Copying gs://arxiv-dataset/arxiv/cs/pdf/0311/0311031v1.pdf...\n",
      "Copying gs://arxiv-dataset/arxiv/cs/pdf/0202/0202010v1.pdf...\n",
      "Copying gs://arxiv-dataset/arxiv/cs/pdf/0507/0507008v6.pdf...\n",
      "Copying gs://arxiv-dataset/arxiv/cs/pdf/0503/0503045v1.pdf...\n",
      "Copying gs://arxiv-dataset/arxiv/cs/pdf/0312/0312008v1.pdf...\n",
      "Copying gs://arxiv-dataset/arxiv/cs/pdf/0703/0703018v4.pdf...\n",
      "Copying gs://arxiv-dataset/arxiv/cs/pdf/0111/0111055v2.pdf...\n",
      "Copying gs://arxiv-dataset/arxiv/cs/pdf/0301/0301007v1.pdf...\n",
      "Copying gs://arxiv-dataset/arxiv/cs/pdf/0508/0508068v1.pdf...\n",
      "Copying gs://arxiv-dataset/arxiv/cs/pdf/0610/0610169v1.pdf...\n",
      "Copying gs://arxiv-dataset/arxiv/cs/pdf/0506/0506029v1.pdf...\n",
      "Copying gs://arxiv-dataset/arxiv/cs/pdf/0112/0112010v1.pdf...\n",
      "- [500/500 files][127.3 MiB/127.3 MiB] 100% Done   6.1 MiB/s ETA 00:00:00       \n",
      "Operation completed over 500 objects/127.3 MiB.                                  \n"
     ]
    }
   ],
   "source": [
    "!cat sample_files.txt | gsutil -m cp -I \"/content/drive/MyDrive/[Personal-route]"
   ]
  },
  {
   "cell_type": "code",
   "execution_count": null,
   "metadata": {
    "id": "ZbinWCOaaRCS"
   },
   "outputs": [],
   "source": [
    "drive.flush_and_unmount()"
   ]
  },
  {
   "cell_type": "markdown",
   "metadata": {
    "id": "5TFN-33Dbfba"
   },
   "source": [
    "# Extracting plain text"
   ]
  },
  {
   "cell_type": "code",
   "execution_count": null,
   "metadata": {
    "colab": {
     "base_uri": "https://localhost:8080/"
    },
    "executionInfo": {
     "elapsed": 6498,
     "status": "ok",
     "timestamp": 1647563870451,
     "user": {
      "displayName": "Uxío Piñeiro",
      "photoUrl": "https://lh3.googleusercontent.com/a-/AOh14GiRnzmswfIeMtQu-an4TKqYu3oG9ATEx3_pIuve5Kc=s64",
      "userId": "04735502470091500196"
     },
     "user_tz": 0
    },
    "id": "_xXQdOefdWOH",
    "outputId": "308532b2-6ae7-4a92-9491-9ebd3de4cc0f"
   },
   "outputs": [
    {
     "name": "stdout",
     "output_type": "stream",
     "text": [
      "Collecting pdfminer.six\n",
      "  Downloading pdfminer.six-20211012-py3-none-any.whl (5.6 MB)\n",
      "\u001b[K     |████████████████████████████████| 5.6 MB 24.5 MB/s \n",
      "\u001b[?25hRequirement already satisfied: chardet in /usr/local/lib/python3.7/dist-packages (from pdfminer.six) (3.0.4)\n",
      "Collecting cryptography\n",
      "  Downloading cryptography-36.0.2-cp36-abi3-manylinux_2_24_x86_64.whl (3.6 MB)\n",
      "\u001b[K     |████████████████████████████████| 3.6 MB 40.9 MB/s \n",
      "\u001b[?25hRequirement already satisfied: cffi>=1.12 in /usr/local/lib/python3.7/dist-packages (from cryptography->pdfminer.six) (1.15.0)\n",
      "Requirement already satisfied: pycparser in /usr/local/lib/python3.7/dist-packages (from cffi>=1.12->cryptography->pdfminer.six) (2.21)\n",
      "Installing collected packages: cryptography, pdfminer.six\n",
      "Successfully installed cryptography-36.0.2 pdfminer.six-20211012\n"
     ]
    }
   ],
   "source": [
    "!pip install pdfminer.six"
   ]
  },
  {
   "cell_type": "code",
   "execution_count": null,
   "metadata": {
    "id": "0fcFQXubbjch"
   },
   "outputs": [],
   "source": [
    "from google.colab import drive"
   ]
  },
  {
   "cell_type": "code",
   "execution_count": null,
   "metadata": {
    "colab": {
     "base_uri": "https://localhost:8080/"
    },
    "executionInfo": {
     "elapsed": 2859,
     "status": "ok",
     "timestamp": 1647564283585,
     "user": {
      "displayName": "Uxío Piñeiro",
      "photoUrl": "https://lh3.googleusercontent.com/a-/AOh14GiRnzmswfIeMtQu-an4TKqYu3oG9ATEx3_pIuve5Kc=s64",
      "userId": "04735502470091500196"
     },
     "user_tz": 0
    },
    "id": "dVKIt9Z3bosL",
    "outputId": "ff73c830-b925-4468-8705-ed9cf3b4b2af"
   },
   "outputs": [
    {
     "name": "stdout",
     "output_type": "stream",
     "text": [
      "Mounted at /content/drive/\n"
     ]
    }
   ],
   "source": [
    "drive.mount('/content/drive/', force_remount=True)"
   ]
  },
  {
   "cell_type": "code",
   "execution_count": null,
   "metadata": {
    "id": "uVHxgaa3bpeh"
   },
   "outputs": [],
   "source": [
    "from pdfminer.high_level import extract_text\n",
    "import os"
   ]
  },
  {
   "cell_type": "code",
   "execution_count": null,
   "metadata": {
    "id": "WYVRWSPjdwXw"
   },
   "outputs": [],
   "source": [
    "pdf_file = \"/content/drive/MyDrive/[Personal-route]\"\n",
    "txt_file = \"/content/drive/MyDrive/[Personal-route]\"\n",
    "\n",
    "text = extract_text(pdf_file)\n",
    "with open(txt_file, \"w+\") as f:\n",
    "  f.write(text)"
   ]
  },
  {
   "cell_type": "code",
   "execution_count": null,
   "metadata": {
    "colab": {
     "base_uri": "https://localhost:8080/"
    },
    "executionInfo": {
     "elapsed": 1629378,
     "status": "ok",
     "timestamp": 1647566787452,
     "user": {
      "displayName": "Uxío Piñeiro",
      "photoUrl": "https://lh3.googleusercontent.com/a-/AOh14GiRnzmswfIeMtQu-an4TKqYu3oG9ATEx3_pIuve5Kc=s64",
      "userId": "04735502470091500196"
     },
     "user_tz": 0
    },
    "id": "Yte0lkQFftfb",
    "outputId": "583fd7b1-9ccb-4ec4-e52f-7d09f1f21fa9"
   },
   "outputs": [
    {
     "name": "stderr",
     "output_type": "stream",
     "text": [
      "/usr/local/lib/python3.7/dist-packages/pdfminer/pdfpage.py:159: PDFTextExtractionNotAllowedWarning: The PDF <_io.BufferedReader name='/content/drive/MyDrive/TFG Uxio y Luis/Notebook/Pruebas/data/arxiv-pdf/0703002v4.pdf'> contains a metadata field indicating that it should not allow text extraction. Ignoring this field and proceeding.\n",
      "  warnings.warn(warning_msg, PDFTextExtractionNotAllowedWarning)\n"
     ]
    }
   ],
   "source": [
    "pdf_files_dir = \"/content/drive/MyDrive/[Personal-route]\n",
    "txt_files_dir = \"/content/drive/MyDrive/[Personal-route]\"\n",
    "\n",
    "for filename in os.listdir(pdf_files_dir):\n",
    "  pdf_file = f\"{pdf_files_dir}/{filename}\"\n",
    "  txt_file = f\"{txt_files_dir}/{filename}\".replace(\".pdf\", \".txt\")\n",
    "\n",
    "  text = extract_text(pdf_file)\n",
    "  with open(txt_file, \"w+\") as f:\n",
    "    f.write(text)"
   ]
  }
 ],
 "metadata": {
  "colab": {
   "name": "0. Data Collection",
   "provenance": []
  },
  "kernelspec": {
   "display_name": "Python 3 (ipykernel)",
   "language": "python",
   "name": "python3"
  },
  "language_info": {
   "codemirror_mode": {
    "name": "ipython",
    "version": 3
   },
   "file_extension": ".py",
   "mimetype": "text/x-python",
   "name": "python",
   "nbconvert_exporter": "python",
   "pygments_lexer": "ipython3",
   "version": "3.9.4"
  }
 },
 "nbformat": 4,
 "nbformat_minor": 1
}
